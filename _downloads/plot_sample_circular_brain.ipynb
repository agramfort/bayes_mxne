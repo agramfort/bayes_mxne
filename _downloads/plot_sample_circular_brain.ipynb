{
  "cells": [
    {
      "cell_type": "code",
      "execution_count": null,
      "metadata": {
        "collapsed": false
      },
      "outputs": [],
      "source": [
        "%matplotlib inline"
      ]
    },
    {
      "cell_type": "markdown",
      "metadata": {},
      "source": [
        "\n# Circular plot of the configurations\n\n\nThis example demonstrates how to run a MM solver using K different\nMCMC initilization. Plot then on a circular plot all the configurations\nof the source localization.\n\n"
      ]
    },
    {
      "cell_type": "code",
      "execution_count": null,
      "metadata": {
        "collapsed": false
      },
      "outputs": [],
      "source": [
        "# Authors: Yousra Bekhti <yousra.bekhti@gmail.com>\n#          Alexandre Gramfort <alexandre.gramfort@inria.fr>\n\n# License: BSD (3-clause)\n\nfrom copy import deepcopy\nimport numpy as np\n\nimport mne\nfrom mne.datasets import sample\n\nfrom mne.inverse_sparse.mxne_inverse import \\\n    (_prepare_gain, is_fixed_orient, _make_sparse_stc)\nfrom mne.inverse_sparse.mxne_optim import norm_l2inf\n\nfrom bayes_mxne import (mm_mixed_norm_bayes, compute_block_norms)\nfrom bayes_mxne.config_plots import energy_l2half_reg, circular_brain_plot\n\nprint(__doc__)"
      ]
    },
    {
      "cell_type": "markdown",
      "metadata": {},
      "source": [
        "Let us read in the `fif` file for MNE sample dataset corresponding\nto the forward, the evoked and the covariance matrix.\n\n"
      ]
    },
    {
      "cell_type": "code",
      "execution_count": null,
      "metadata": {
        "collapsed": false
      },
      "outputs": [],
      "source": [
        "data_path = sample.data_path()\n\nfwd_fname = data_path + '/MEG/sample/sample_audvis-meg-eeg-oct-6-fwd.fif'\nave_fname = data_path + '/MEG/sample/sample_audvis-ave.fif'\ncov_fname = data_path + '/MEG/sample/sample_audvis-shrunk-cov.fif'\n\nsubjects_dir = data_path + '/subjects'\ncondition = 'Left Auditory'\n\n# Read noise covariance matrix\nnoise_cov = mne.read_cov(cov_fname)\n\n# Handling average file\nevoked = mne.read_evokeds(ave_fname, condition=condition, baseline=(None, 0))\nevoked.crop(tmin=0.04, tmax=0.18)\nevoked = evoked.pick_types(eeg=False, meg=True)\n\n# Handling forward solution\nforward = mne.read_forward_solution(fwd_fname)\nforward = mne.convert_forward_solution(forward, surf_ori=True)"
      ]
    },
    {
      "cell_type": "markdown",
      "metadata": {},
      "source": [
        "Run solver method\n\n"
      ]
    },
    {
      "cell_type": "code",
      "execution_count": null,
      "metadata": {
        "collapsed": false
      },
      "outputs": [],
      "source": [
        "def apply_solver(evoked, forward, noise_cov, loose=0.2, depth=0.8, K=2000):\n    all_ch_names = evoked.ch_names\n    # put the forward solution in fixed orientation if it's not already\n    if loose is None and not is_fixed_orient(forward):\n        forward = deepcopy(forward)\n        forward = mne.convert_forward_solution(forward, force_fixed=True)\n\n    gain, gain_info, whitener, source_weighting, mask = _prepare_gain(\n        forward, evoked.info, noise_cov, pca=False, depth=depth,\n        loose=loose, weights=None, weights_min=None)\n\n    n_locations = gain.shape[1]\n    sel = [all_ch_names.index(name) for name in gain_info['ch_names']]\n    M = evoked.data[sel]\n\n    # Whiten data\n    M = np.dot(whitener, M)\n\n    n_orient = 1 if is_fixed_orient(forward) else 3\n\n    # The value of lambda for which the solution will be all zero\n    lambda_max = norm_l2inf(np.dot(gain.T, M), n_orient)\n\n    lambda_ref = 0.1 * lambda_max\n\n    Xs, active_sets = mm_mixed_norm_bayes(\n        M, gain, lambda_ref, n_orient=n_orient, K=K,\n        verbose=True)[:2]\n\n    solution_support = np.zeros((K, n_locations))\n    stcs, obj_fun = [], []\n    for k in range(K):\n        X = np.zeros((n_locations, Xs[k].shape[1]))\n        X[active_sets[k]] = Xs[k]\n        block_norms_new = compute_block_norms(X, n_orient)\n        block_norms_new = (block_norms_new > 0.05 * block_norms_new.max())\n        solution_support[k, :] = block_norms_new\n\n        stc = _make_sparse_stc(Xs[k], active_sets[k], forward, tmin=0.,\n                               tstep=1. / evoked.info['sfreq'])\n        stcs.append(stc)\n        obj_fun.append(energy_l2half_reg(M, gain, stc.data, active_sets[k],\n                       lambda_ref, n_orient))\n    return solution_support, stcs, obj_fun"
      ]
    },
    {
      "cell_type": "markdown",
      "metadata": {},
      "source": [
        "Apply the solver\n----------------\n\n"
      ]
    },
    {
      "cell_type": "code",
      "execution_count": null,
      "metadata": {
        "collapsed": false
      },
      "outputs": [],
      "source": [
        "loose, depth, K = None, 0.8, 5\nout = apply_solver(evoked, forward, noise_cov, loose=loose,\n                   depth=depth, K=K)\nsolution_support, stcs, obj_fun = out"
      ]
    },
    {
      "cell_type": "markdown",
      "metadata": {},
      "source": [
        "Plotting of all configurations intro a circular plot\n\n"
      ]
    },
    {
      "cell_type": "code",
      "execution_count": null,
      "metadata": {
        "collapsed": false
      },
      "outputs": [],
      "source": [
        "circular_brain_plot(forward, solution_support, stcs, obj_fun)"
      ]
    }
  ],
  "metadata": {
    "kernelspec": {
      "display_name": "Python 3",
      "language": "python",
      "name": "python3"
    },
    "language_info": {
      "codemirror_mode": {
        "name": "ipython",
        "version": 3
      },
      "file_extension": ".py",
      "mimetype": "text/x-python",
      "name": "python",
      "nbconvert_exporter": "python",
      "pygments_lexer": "ipython3",
      "version": "3.6.2"
    }
  },
  "nbformat": 4,
  "nbformat_minor": 0
}