{
  "cells": [
    {
      "cell_type": "code",
      "execution_count": null,
      "metadata": {
        "collapsed": false
      },
      "outputs": [],
      "source": [
        "%matplotlib inline"
      ]
    },
    {
      "cell_type": "markdown",
      "metadata": {},
      "source": [
        "\n# Plot a demonstration on a toy problem\n\n\nThis example demonstrates the difficulty to recover sources\nwhich have stronger correlation between the columns of the\ngain matrix G.\n\n"
      ]
    },
    {
      "cell_type": "code",
      "execution_count": null,
      "metadata": {
        "collapsed": false
      },
      "outputs": [],
      "source": [
        "# Authors: Yousra Bekhti <yousra.bekhti@gmail.com>\n#          Alexandre Gramfort <alexandre.gramfort@inria.fr>\n\n# License: BSD (3-clause)\n\nimport numpy as np\nfrom scipy import linalg\nfrom scipy.linalg.special_matrices import toeplitz\nimport matplotlib.pyplot as plt\n\nfrom mne.inverse_sparse.mxne_optim import norm_l2inf\nfrom bayes_mxne import mm_mixed_norm_bayes"
      ]
    },
    {
      "cell_type": "markdown",
      "metadata": {},
      "source": [
        "Construction of simulated data\n------------------------------\n\nFirst we define the problem size and the location of the active sources.\n\n"
      ]
    },
    {
      "cell_type": "code",
      "execution_count": null,
      "metadata": {
        "collapsed": false
      },
      "outputs": [],
      "source": [
        "n_features = 40\nn_samples = 15\nn_times = 10\n\nX_true = np.zeros((n_features, n_times))\n# Active sources at indices 10 and 30\nX_true[10, :] = 2.\nX_true[30, :] = 2."
      ]
    },
    {
      "cell_type": "markdown",
      "metadata": {},
      "source": [
        "Construction of a covariance matrix\n\n"
      ]
    },
    {
      "cell_type": "code",
      "execution_count": null,
      "metadata": {
        "collapsed": false
      },
      "outputs": [],
      "source": [
        "rng = np.random.RandomState(0)\n# Set the correlation of each simulated source\ncorr = [0.6, 0.95]\ncov = []\nfor c in corr:\n    this_cov = toeplitz(c ** np.arange(0, n_features // len(corr)))\n    cov.append(this_cov)\n\ncov = np.array(linalg.block_diag(*cov))"
      ]
    },
    {
      "cell_type": "markdown",
      "metadata": {},
      "source": [
        "Simulation of the design matrix / forward operator\n\n"
      ]
    },
    {
      "cell_type": "code",
      "execution_count": null,
      "metadata": {
        "collapsed": false
      },
      "outputs": [],
      "source": [
        "G = rng.multivariate_normal(np.zeros(n_features), cov, size=n_samples)"
      ]
    },
    {
      "cell_type": "markdown",
      "metadata": {},
      "source": [
        "Simulation of the data with some noise\n\n"
      ]
    },
    {
      "cell_type": "code",
      "execution_count": null,
      "metadata": {
        "collapsed": false
      },
      "outputs": [],
      "source": [
        "M = G.dot(X_true)\nM += 0.3 * np.std(M) * rng.randn(n_samples, n_times)\nn_orient = 1"
      ]
    },
    {
      "cell_type": "markdown",
      "metadata": {},
      "source": [
        "Define the regularization parameter and run the solver\n------------------------------------------------------\n\n"
      ]
    },
    {
      "cell_type": "code",
      "execution_count": null,
      "metadata": {
        "collapsed": false
      },
      "outputs": [],
      "source": [
        "lambda_max = norm_l2inf(np.dot(G.T, M), n_orient)\n\nlambda_ref = 0.1 * lambda_max\nK = 2000\nout = mm_mixed_norm_bayes(\n    M, G, lambda_ref, n_orient=n_orient, K=K, verbose=True)\n\nXs, active_sets = out\n\nfreq_occ = np.mean(active_sets, axis=0)"
      ]
    },
    {
      "cell_type": "markdown",
      "metadata": {},
      "source": [
        "Plot the covariance to see the correlation of the neighboring\nsources around each simulated one (10 and 30).\n\n"
      ]
    },
    {
      "cell_type": "code",
      "execution_count": null,
      "metadata": {
        "collapsed": false
      },
      "outputs": [],
      "source": [
        "plt.matshow(cov)\nplt.title('Covariance')\n\n# Plot the active support of the solution\nplt.figure(figsize=(6.4, 3.3))\nplt.stem(np.mean(active_sets, axis=0))\nplt.xlabel('Features')\nplt.ylabel('Support %')\nplt.tight_layout()\nplt.show()\n\ntmp = np.array(active_sets).astype(float)\nas_cov = np.dot(tmp.T, tmp) / K\n\n# Active set covariance\nplt.matshow(as_cov, origin='lower left')\nplt.clim([0, 0.05])\nplt.gca().xaxis.set_ticks_position('bottom')\nplt.title('Active set covariance')\nplt.colorbar()\nplt.show()"
      ]
    }
  ],
  "metadata": {
    "kernelspec": {
      "display_name": "Python 3",
      "language": "python",
      "name": "python3"
    },
    "language_info": {
      "codemirror_mode": {
        "name": "ipython",
        "version": 3
      },
      "file_extension": ".py",
      "mimetype": "text/x-python",
      "name": "python",
      "nbconvert_exporter": "python",
      "pygments_lexer": "ipython3",
      "version": "3.6.2"
    }
  },
  "nbformat": 4,
  "nbformat_minor": 0
}